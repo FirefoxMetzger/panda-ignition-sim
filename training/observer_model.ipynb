{
 "metadata": {
  "language_info": {
   "codemirror_mode": {
    "name": "ipython",
    "version": 3
   },
   "file_extension": ".py",
   "mimetype": "text/x-python",
   "name": "python",
   "nbconvert_exporter": "python",
   "pygments_lexer": "ipython3",
   "version": "3.8.5"
  },
  "orig_nbformat": 2,
  "kernelspec": {
   "name": "python385jvsc74a57bd031f2aee4e71d21fbe5cf8b01ff0e069b9275f58929596ceb00d14d90e3e16cd6",
   "display_name": "Python 3.8.5 64-bit"
  },
  "metadata": {
   "interpreter": {
    "hash": "31f2aee4e71d21fbe5cf8b01ff0e069b9275f58929596ceb00d14d90e3e16cd6"
   }
  }
 },
 "nbformat": 4,
 "nbformat_minor": 2,
 "cells": [
  {
   "cell_type": "code",
   "execution_count": 1,
   "metadata": {},
   "outputs": [],
   "source": [
    "import tensorflow as tf\n",
    "import numpy as np\n",
    "import pandas as pd\n"
   ]
  },
  {
   "cell_type": "code",
   "execution_count": 8,
   "metadata": {},
   "outputs": [],
   "source": [
    "from pathlib import Path\n",
    "\n",
    "dataset_root = Path(\"../dataset\")\n",
    "dataset_root.mkdir(exist_ok=True)\n",
    "\n",
    "env_metadata = pd.read_excel(dataset_root / \"environment_metadata.xlsx\").set_index(\"Unnamed: 0\")\n",
    "trajectory_metadata = pd.read_excel(dataset_root / \"trajectory_metadata.xlsx\")\n",
    "\n",
    "trajectories = np.load(dataset_root / \"camera_trajectory_data.npy\")\n",
    "ratings = np.load(dataset_root / \"ratings\" / \"observer1.npy\", allow_pickle=True)\n"
   ]
  },
  {
   "cell_type": "code",
   "execution_count": 9,
   "metadata": {},
   "outputs": [],
   "source": [
    "goal_positions = np.load(dataset_root / \"environment_0\" / \"camera_cube_position.npy\")"
   ]
  },
  {
   "source": [
    "Setup of cost model"
   ],
   "cell_type": "markdown",
   "metadata": {}
  },
  {
   "cell_type": "code",
   "execution_count": 10,
   "metadata": {},
   "outputs": [],
   "source": [
    "joint_position = tf.keras.Input(shape=(2))\n",
    "goal = tf.keras.Input(shape=(2))\n",
    "\n",
    "output = tf.linalg.norm(goal - joint_position, axis=-1)\n",
    "\n",
    "model = tf.keras.Model((joint_position, goal), output)"
   ]
  },
  {
   "cell_type": "code",
   "execution_count": 31,
   "metadata": {},
   "outputs": [],
   "source": [
    "def score(trajectories):\n",
    "    trajectories = trajectories.reshape((-1, 2))\n",
    "    result = np.empty((trajectories.shape[0], len(goal_positions)), dtype=np.float_)\n",
    "\n",
    "    for idx, goal in enumerate(goal_positions):\n",
    "        goal_vector = np.empty((len(trajectories), 2), dtype=np.float_)\n",
    "        goal_vector[:] = goal\n",
    "        result[:, idx] = model.predict((trajectories, goal_vector))\n",
    "    return result.reshape((-1, 330, len(goal_positions)))"
   ]
  },
  {
   "cell_type": "code",
   "execution_count": 32,
   "metadata": {},
   "outputs": [],
   "source": [
    "foo = score(trajectories)"
   ]
  },
  {
   "cell_type": "code",
   "execution_count": 35,
   "metadata": {},
   "outputs": [
    {
     "output_type": "execute_result",
     "data": {
      "text/plain": [
       "True"
      ]
     },
     "metadata": {},
     "execution_count": 35
    }
   ],
   "source": [
    "np.allclose(foo[0], ratings[0])"
   ]
  },
  {
   "cell_type": "code",
   "execution_count": null,
   "metadata": {},
   "outputs": [],
   "source": []
  }
 ]
}